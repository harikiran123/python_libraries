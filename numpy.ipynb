{
 "cells": [
  {
   "cell_type": "markdown",
   "metadata": {},
   "source": [
    "1. Write a Python program to convert a list of numeric value into a one-dimensional\n",
    "NumPy array.\n",
    "Expected Output:\n",
    "Original List: [12.23, 13.32, 100, 36.32]\n",
    "One-dimensional numpy array: [ 12.23 13.32 100. 36.32]"
   ]
  },
  {
   "cell_type": "code",
   "execution_count": 9,
   "metadata": {},
   "outputs": [
    {
     "name": "stdout",
     "output_type": "stream",
     "text": [
      "original list : [10.22, 100.0, 12.22, 324.0]\n",
      "one dimention numpy array : [ 10.22 100.    12.22 324.  ]\n",
      "no of dimentions1\n"
     ]
    }
   ],
   "source": [
    "import numpy as np\n",
    "original_list=list(map(float,input(\"enter the elements to the list : \").split(\" \")))\n",
    "print(f\"original list : {original_list}\")\n",
    "arr = np.array(original_list,ndmin=1)\n",
    "print(f\"one dimention numpy array : {arr}\")\n",
    "print(f\"no of dimentions{arr.ndim}\")"
   ]
  },
  {
   "cell_type": "markdown",
   "metadata": {},
   "source": [
    "2. Create a 3x3 matrix with values ranging from 2 to 10.\n",
    "Expected Output:\n",
    "[[ 2 3 4]\n",
    "[ 5 6 7]\n",
    "[ 8 9 10]]"
   ]
  },
  {
   "cell_type": "code",
   "execution_count": 10,
   "metadata": {},
   "outputs": [
    {
     "name": "stdout",
     "output_type": "stream",
     "text": [
      "[[ 2  3  4]\n",
      " [ 5  6  7]\n",
      " [ 8  9 10]]\n"
     ]
    }
   ],
   "source": [
    "import numpy as np\n",
    "matrix = np.arange(2,11).reshape(3,3)\n",
    "print(matrix)"
   ]
  },
  {
   "cell_type": "markdown",
   "metadata": {},
   "source": [
    "    3.Write a Python program to create a null vector of size 10 and update sixth value to 11.\n",
    "    [ 0. 0. 0. 0. 0. 0. 0. 0. 0. 0.]\n",
    "    Update sixth value to 11\n",
    "    [ 0. 0. 0. 0. 0. 0. 11. 0. 0. 0.]"
   ]
  },
  {
   "cell_type": "code",
   "execution_count": 19,
   "metadata": {},
   "outputs": [
    {
     "name": "stdout",
     "output_type": "stream",
     "text": [
      "[0. 0. 0. 0. 0. 0. 0. 0. 0. 0.]\n",
      "[ 0.  0.  0.  0.  0.  0. 11.  0.  0.  0.]\n"
     ]
    }
   ],
   "source": [
    "import numpy as np\n",
    "\n",
    "vector =np.zeros(10)\n",
    "print(vector)\n",
    "vector[6]=11\n",
    "print(vector)"
   ]
  },
  {
   "cell_type": "markdown",
   "metadata": {},
   "source": [
    "4. Write a Python program to reverse an array (first element becomes last).\n",
    "Original array:\n",
    "[12 13 14 15 16 17 18 19 20 21 22 23 24 25 26 27 28 29 30 31 32 33 34 35 36 37]\n",
    "Reverse array:\n",
    "[37 36 35 34 33 32 31 30 29 28 27 26 25 24 23 22 21 20 19 18 17 16 15 14 13 12]"
   ]
  },
  {
   "cell_type": "code",
   "execution_count": 23,
   "metadata": {},
   "outputs": [
    {
     "name": "stdout",
     "output_type": "stream",
     "text": [
      "original array: \n",
      "[12 13 14 15 16 17 18 19 20 21 22 23 24 25 26 27 28 29 30 31 32 33 34 35\n",
      " 36 37]\n",
      "reverse array\n",
      "[37 36 35 34 33 32 31 30 29 28 27 26 25 24 23 22 21 20 19 18 17 16 15 14\n",
      " 13 12]\n"
     ]
    }
   ],
   "source": [
    "import numpy as np \n",
    "original_list = [12, 13, 14, 15, 16, 17, 18, 19, 20, 21, 22, 23, 24, 25, 26, 27, 28, 29, 30, 31, 32, 33, 34, 35, 36, 37]\n",
    "print(\"original array: \")\n",
    "arr = np.array(original_list)\n",
    "print(arr)\n",
    "arr = arr[::-1]\n",
    "print(\"reverse array\")\n",
    "print(arr)\n"
   ]
  },
  {
   "cell_type": "markdown",
   "metadata": {},
   "source": [
    "5. Write a Python program to create a 2d array with 1 on the border and 0 inside.\n",
    "Expected Output:\n",
    "Original array:\n",
    "[[ 1. 1. 1. 1. 1.]\n",
    "[ 1. 1. 1. 1. 1.]\n",
    "[ 1. 1. 1. 1. 1.]\n",
    "[ 1. 1. 1. 1. 1.]\n",
    "[ 1. 1. 1. 1. 1.]]\n",
    "\n",
    "1 on the border and 0 inside in the array\n",
    "[[ 1. 1. 1. 1. 1.]\n",
    "[ 1. 0. 0. 0. 1.]\n",
    "[ 1. 0. 0. 0. 1.]\n",
    "[ 1. 0. 0. 0. 1.]\n",
    "[ 1. 1. 1. 1. 1.]]"
   ]
  },
  {
   "cell_type": "code",
   "execution_count": 28,
   "metadata": {},
   "outputs": [
    {
     "name": "stdout",
     "output_type": "stream",
     "text": [
      "original list\n",
      "[[1. 1. 1. 1. 1.]\n",
      " [1. 1. 1. 1. 1.]\n",
      " [1. 1. 1. 1. 1.]\n",
      " [1. 1. 1. 1. 1.]\n",
      " [1. 1. 1. 1. 1.]]\n",
      "1 on the border and 0 inside in the array\n",
      "[[1. 1. 1. 1. 1.]\n",
      " [1. 0. 0. 0. 1.]\n",
      " [1. 0. 0. 0. 1.]\n",
      " [1. 0. 0. 0. 1.]\n",
      " [1. 1. 1. 1. 1.]]\n"
     ]
    }
   ],
   "source": [
    "import numpy as np \n",
    "matrix =np.ones((5, 5))\n",
    "print(\"original list\")\n",
    "print(matrix)\n",
    "matrix[1:-1,1:-1]=0\n",
    "print(\"1 on the border and 0 inside in the array\")\n",
    "print(matrix)"
   ]
  },
  {
   "cell_type": "markdown",
   "metadata": {},
   "source": [
    "6. Write a Python program to add a border (filled with 0's) around an existing array.\n",
    "Expected Output:\n",
    "Original array:\n",
    "[[ 1. 1. 1.]\n",
    "[ 1. 1. 1.]\n",
    "[ 1. 1. 1.]]\n",
    "1 on the border and 0 inside in the array\n",
    "[[ 0. 0. 0. 0. 0.]\n",
    "[ 0. 1. 1. 1. 0.]\n",
    "[ 0. 1. 1. 1. 0.]\n",
    "[ 0. 1. 1. 1. 0.]\n",
    "[ 0. 0. 0. 0. 0.]]"
   ]
  },
  {
   "cell_type": "code",
   "execution_count": 30,
   "metadata": {},
   "outputs": [
    {
     "name": "stdout",
     "output_type": "stream",
     "text": [
      "original array\n",
      "[[1. 1. 1.]\n",
      " [1. 1. 1.]\n",
      " [1. 1. 1.]]\n",
      "0 on the border and 1 inside in the array\n",
      "[[0. 0. 0. 0. 0.]\n",
      " [0. 1. 1. 1. 0.]\n",
      " [0. 1. 1. 1. 0.]\n",
      " [0. 1. 1. 1. 0.]\n",
      " [0. 0. 0. 0. 0.]]\n"
     ]
    }
   ],
   "source": [
    "import numpy as np \n",
    "matrix = np.ones((3,3))\n",
    "print(\"original array\")\n",
    "print(matrix)\n",
    "matrix = np.pad(matrix,pad_width=1,mode=\"constant\",constant_values=0)\n",
    "print(\"0 on the border and 1 inside in the array\")\n",
    "print(matrix)\n"
   ]
  },
  {
   "cell_type": "markdown",
   "metadata": {},
   "source": [
    "7. Write a Python program to create a 8x8 matrix and fill it with a checkerboard pattern.\n",
    "Checkerboard pattern:\n",
    "[[0 1 0 1 0 1 0 1]\n",
    "[1 0 1 0 1 0 1 0]\n",
    "[0 1 0 1 0 1 0 1]\n",
    "[1 0 1 0 1 0 1 0]\n",
    "[0 1 0 1 0 1 0 1]\n",
    "[1 0 1 0 1 0 1 0]\n",
    "[0 1 0 1 0 1 0 1]\n",
    "[1 0 1 0 1 0 1 0]]"
   ]
  },
  {
   "cell_type": "code",
   "execution_count": 32,
   "metadata": {},
   "outputs": [
    {
     "name": "stdout",
     "output_type": "stream",
     "text": [
      "checkerboard pattern : \n",
      "[[0 1 0 1 0 1 0 1]\n",
      " [1 0 1 0 1 0 1 0]\n",
      " [0 1 0 1 0 1 0 1]\n",
      " [1 0 1 0 1 0 1 0]\n",
      " [0 1 0 1 0 1 0 1]\n",
      " [1 0 1 0 1 0 1 0]\n",
      " [0 1 0 1 0 1 0 1]\n",
      " [1 0 1 0 1 0 1 0]]\n"
     ]
    }
   ],
   "source": [
    "import numpy as np \n",
    "matrix = np.zeros((8,8), dtype=int)\n",
    "matrix[1::2, ::2] = 1 \n",
    "matrix[::2, 1::2] = 1  \n",
    "print(\"checkerboard pattern : \")\n",
    "print(matrix)"
   ]
  },
  {
   "cell_type": "markdown",
   "metadata": {},
   "source": [
    "8. Write a Python program to convert a list and tuple into arrays.\n",
    "List to array:\n",
    "[1 2 3 4 5 6 7 8]\n",
    "Tuple to array:\n",
    "[[8 4 6]\n",
    "[1 2 3]]"
   ]
  },
  {
   "cell_type": "code",
   "execution_count": 34,
   "metadata": {},
   "outputs": [
    {
     "name": "stdout",
     "output_type": "stream",
     "text": [
      "list to array : \n",
      "[1 2 3 4 5 6 7 8]\n",
      "tuple to array :\n",
      "[[8 4 6]\n",
      " [1 2 3]]\n"
     ]
    }
   ],
   "source": [
    "import numpy as np \n",
    "my_list = [1, 2, 3, 4, 5, 6, 7, 8]\n",
    "my_list= np.array(my_list)\n",
    "print(\"list to array : \")\n",
    "print(my_list)\n",
    "\n",
    "my_tuple = ((8,4,6), (1,2,3))\n",
    "my_tuple=np.array(my_tuple)\n",
    "print(\"tuple to array :\")\n",
    "print(my_tuple)"
   ]
  },
  {
   "cell_type": "markdown",
   "metadata": {},
   "source": [
    "9. Write a Python program to append values to the end of an array.\n",
    "Expected Output:\n",
    "Original array:\n",
    "[10, 20, 30]\n",
    "\n",
    "After append values to the end of the array:\n",
    "[10 20 30 40 50 60 70 80 90]"
   ]
  },
  {
   "cell_type": "code",
   "execution_count": 40,
   "metadata": {},
   "outputs": [
    {
     "name": "stdout",
     "output_type": "stream",
     "text": [
      "original list\n",
      "[10 20 30]\n",
      "\n",
      "after apped values to the end of the array\n",
      "[10 20 30 40 50 60 70 80 90]\n"
     ]
    }
   ],
   "source": [
    "import numpy as np \n",
    "arr=np.array([10,20,30])\n",
    "print(\"original list\")\n",
    "print(arr)\n",
    "app=np.array([40,50,60,70,80,90])\n",
    "arr = np.append(arr, app)\n",
    "print(\"\\nafter apped values to the end of the array\")\n",
    "print(arr)"
   ]
  },
  {
   "cell_type": "markdown",
   "metadata": {},
   "source": [
    "10. Write a Python program to find the real and imaginary parts of an array of complex\n",
    "numbers.\n",
    "Expected Output:\n",
    "Original array [ 1.00000000+0.j 0.70710678+0.70710678j]\n",
    "Real part of the array:\n",
    "[ 1. 0.70710678]\n",
    "Imaginary part of the array:\n",
    "[ 0. 0.70710678]"
   ]
  },
  {
   "cell_type": "code",
   "execution_count": 45,
   "metadata": {},
   "outputs": [
    {
     "name": "stdout",
     "output_type": "stream",
     "text": [
      "original array:\n",
      "[1.        +0.j         0.70710678+0.70710678j]\n",
      "real part of the array:\n",
      "[1.         0.70710678]\n",
      "imaginary part of the array:\n",
      "[0.         0.70710678]\n"
     ]
    }
   ],
   "source": [
    "import numpy as np\n",
    "arr = np.array([1.0 + 0.j, 0.70710678 + 0.70710678j])\n",
    "print(\"original array:\")\n",
    "print(arr)\n",
    "real_part = np.real(arr)\n",
    "print(\"real part of the array:\")\n",
    "print(real_part)\n",
    "imaginary_part = np.imag(arr)\n",
    "print(\"imaginary part of the array:\")\n",
    "print(imaginary_part)\n"
   ]
  },
  {
   "cell_type": "markdown",
   "metadata": {},
   "source": [
    "11. Write a Python program to find the number of elements of an array, length of one\n",
    "array element in bytes and total bytes consumed by the elements.\n",
    "Expected Output:\n",
    "Size of the array: 3\n",
    "Length of one array element in bytes: 8\n",
    "Total bytes consumed by the elements of the array: 24"
   ]
  },
  {
   "cell_type": "code",
   "execution_count": 46,
   "metadata": {},
   "outputs": [
    {
     "name": "stdout",
     "output_type": "stream",
     "text": [
      "size of the array: 3\n",
      "length of one array element in bytes: 4\n",
      "total bytes consumed by the elements of the array: 12\n"
     ]
    }
   ],
   "source": [
    "import numpy as np\n",
    "arr = np.array([10, 20, 30])\n",
    "size = arr.size\n",
    "print(\"size of the array:\", size)\n",
    "item_size = arr.itemsize\n",
    "print(\"length of one array element in bytes:\", item_size)\n",
    "total_bytes = arr.nbytes\n",
    "print(\"total bytes consumed by the elements of the array:\", total_bytes)\n"
   ]
  },
  {
   "cell_type": "markdown",
   "metadata": {},
   "source": [
    "12. Write a Python program to find common values between two arrays.\n",
    "Expected Output:\n",
    "Array1: [ 0 10 20 40 60]\n",
    "Array2: [10, 30, 40]\n",
    "Common values between two arrays:\n",
    "[10 40]"
   ]
  },
  {
   "cell_type": "code",
   "execution_count": null,
   "metadata": {},
   "outputs": [
    {
     "name": "stdout",
     "output_type": "stream",
     "text": [
      "Array1: [ 0 10 20 40 60]\n",
      "Array2: [10 30 40]\n",
      "Common values between two arrays:\n",
      "[10 40]\n"
     ]
    }
   ],
   "source": [
    "import numpy as np\n",
    "array1 = np.array([0, 10, 20, 40, 60])\n",
    "print(\"array1:\", array1)\n",
    "array2 = np.array([10, 30, 40])\n",
    "print(\"array2:\", array2)\n",
    "common_values = np.intersect1d(array1, array2)\n",
    "print(\"common values between two arrays:\")\n",
    "print(common_values)\n"
   ]
  },
  {
   "cell_type": "markdown",
   "metadata": {},
   "source": [
    "13. Write a Python program to find the set difference of two arrays. The set difference\n",
    "will return the sorted, unique values in array1 that are not in array2.\n",
    "Expected Output:\n",
    "Array1: [ 0 10 20 40 60 80]\n",
    "Array2: [10, 30, 40, 50, 70, 90]\n",
    "Set difference between two arrays:\n",
    "[ 0 20 60 80]"
   ]
  },
  {
   "cell_type": "code",
   "execution_count": 53,
   "metadata": {},
   "outputs": [
    {
     "name": "stdout",
     "output_type": "stream",
     "text": [
      "array1: [ 0 10 20 40 60 80]\n",
      "array2: [10 30 40 50 70 90]\n",
      "set difference between two arrays: [ 0 20 60 80]\n"
     ]
    }
   ],
   "source": [
    "import numpy as np\n",
    "array1 = np.array([0, 10, 20, 40, 60, 80])\n",
    "print(\"array1:\", array1)\n",
    "array2 = np.array([10, 30, 40, 50, 70, 90])\n",
    "print(\"array2:\", array2)\n",
    "set_difference = np.setdiff1d(array1, array2)\n",
    "print(\"set difference between two arrays:\", set_difference)\n"
   ]
  },
  {
   "cell_type": "markdown",
   "metadata": {},
   "source": [
    "14. Write a Python program to find the set exclusive-or of two arrays. Set exclusive-or\n",
    "will return the sorted, unique values that are in only one (not both) of the input arrays.\n",
    "Array1: [ 0 10 20 40 60 80]\n",
    "Array2: [10, 30, 40, 50, 70]\n",
    "Unique values that are in only one (not both) of the input arrays:\n",
    "[ 0 20 30 50 60 70 80]"
   ]
  },
  {
   "cell_type": "code",
   "execution_count": 52,
   "metadata": {},
   "outputs": [
    {
     "name": "stdout",
     "output_type": "stream",
     "text": [
      "array1: [ 0 10 20 40 60 80]\n",
      "array2: [10 30 40 50 70]\n",
      "unique values that are in only one (not both) of the input arrays: [ 0 20 30 50 60 70 80]\n"
     ]
    }
   ],
   "source": [
    "import numpy as np\n",
    "array1 = np.array([0, 10, 20, 40, 60, 80])\n",
    "print(\"array1:\", array1)\n",
    "array2 = np.array([10, 30, 40, 50, 70])\n",
    "print(\"array2:\", array2)\n",
    "set_xor = np.setxor1d(array1, array2)\n",
    "print(\"unique values that are in only one (not both) of the input arrays:\", set_xor)\n"
   ]
  },
  {
   "cell_type": "markdown",
   "metadata": {},
   "source": [
    "15. Write a Python program compare two arrays using numpy.\n",
    "Array a: [1 2]\n",
    "Array b: [4 5]\n",
    "a > b\n",
    "[False False]\n",
    "a >= b\n",
    "[False False]\n",
    "a < b\n",
    "[ True True]\n",
    "a <= b\n",
    "[ True True]"
   ]
  },
  {
   "cell_type": "code",
   "execution_count": 55,
   "metadata": {},
   "outputs": [
    {
     "name": "stdout",
     "output_type": "stream",
     "text": [
      "Array a: [1 2]\n",
      "Array b: [4 5]\n",
      "a > b [False False]\n",
      "a >= b [False False]\n",
      "a < b [ True  True]\n",
      "a <= b [ True  True]\n"
     ]
    }
   ],
   "source": [
    "import numpy as np\n",
    "a = np.array([1, 2])\n",
    "b = np.array([4, 5])\n",
    "print(\"Array a:\", a)\n",
    "print(\"Array b:\", b)\n",
    "print(\"a > b\", a > b)\n",
    "print(\"a >= b\", a >= b)\n",
    "print(\"a < b\", a < b)\n",
    "print(\"a <= b\", a <= b)\n"
   ]
  },
  {
   "cell_type": "markdown",
   "metadata": {},
   "source": [
    "15. Write a Python program to save a NumPy array to a text file."
   ]
  },
  {
   "cell_type": "code",
   "execution_count": null,
   "metadata": {},
   "outputs": [
    {
     "name": "stdout",
     "output_type": "stream",
     "text": [
      "NumPy array saved to 'array.txt' successfully.\n"
     ]
    }
   ],
   "source": [
    "import numpy as np\n",
    "arr = np.array([[1, 2, 3], [4, 5, 6], [7, 8, 9]])\n",
    "np.savetxt(\"array.txt\", arr, fmt=\"%d\")\n",
    "print(\"NumPy array saved to 'array.txt' successfully.\")\n"
   ]
  },
  {
   "cell_type": "markdown",
   "metadata": {},
   "source": [
    "16. Write a Python program to create a contiguous flattened array.\n",
    "Original array:\n",
    "[[10 20 30]\n",
    "[20 40 50]]\n",
    "New flattened array:\n",
    "[10 20 30 20 40 50]"
   ]
  },
  {
   "cell_type": "code",
   "execution_count": 57,
   "metadata": {},
   "outputs": [
    {
     "name": "stdout",
     "output_type": "stream",
     "text": [
      "Original array:\n",
      "[[10 20 30]\n",
      " [20 40 50]]\n",
      "New flattened array:\n",
      "[10 20 30 20 40 50]\n"
     ]
    }
   ],
   "source": [
    "import numpy as np\n",
    "array = np.array([[10, 20, 30], [20, 40, 50]])\n",
    "print(\"Original array:\")\n",
    "print(array)\n",
    "flattened_array = array.flatten()  \n",
    "print(\"New flattened array:\")\n",
    "print(flattened_array)\n"
   ]
  },
  {
   "cell_type": "markdown",
   "metadata": {},
   "source": [
    "17. Write a Python program to change the data type of an array.\n",
    "Expected Output:\n",
    "[[ 2 4 6]\n",
    "[ 6 8 10]]\n",
    "Data type of the array x is: int32\n",
    "New Type: float64\n",
    "[[ 2. 4. 6.]\n",
    "[ 6. 8. 10.]]"
   ]
  },
  {
   "cell_type": "code",
   "execution_count": 62,
   "metadata": {},
   "outputs": [
    {
     "name": "stdout",
     "output_type": "stream",
     "text": [
      "original array:\n",
      "[[ 2  4  6]\n",
      " [ 6  8 10]]\n",
      "data type of the array x is: int32\n",
      "new Type: float64\n",
      "[[ 2.  4.  6.]\n",
      " [ 6.  8. 10.]]\n"
     ]
    }
   ],
   "source": [
    "import numpy as np\n",
    "arr = np.array([[2, 4, 6], [6, 8, 10]])\n",
    "print(\"original array:\")\n",
    "print(arr)\n",
    "print(\"data type of the array x is:\", arr.dtype)\n",
    "arr_float = arr.astype(np.float64)\n",
    "print(\"new Type:\", arr_float.dtype)\n",
    "print(arr_float)\n"
   ]
  },
  {
   "cell_type": "markdown",
   "metadata": {},
   "source": [
    "18. Write a Python program to create a 3-D array with ones on a diagonal and zeros\n",
    "elsewhere.\n",
    "Expected Output:\n",
    "[[ 1. 0. 0.]\n",
    "[ 0. 1. 0.]\n",
    "[ 0. 0. 1.]]"
   ]
  },
  {
   "cell_type": "code",
   "execution_count": 64,
   "metadata": {},
   "outputs": [
    {
     "name": "stdout",
     "output_type": "stream",
     "text": [
      "[[1. 0. 0.]\n",
      " [0. 1. 0.]\n",
      " [0. 0. 1.]]\n"
     ]
    }
   ],
   "source": [
    "import numpy as np\n",
    "matrix = np.eye(3,3)\n",
    "print(matrix)\n"
   ]
  },
  {
   "cell_type": "markdown",
   "metadata": {},
   "source": [
    "19. Write a Python program to create an array which looks like below array.\n",
    "Expected Output:\n",
    "[[ 0. 0. 0.]\n",
    "[ 1. 0. 0.]\n",
    "[ 1. 1. 0.]\n",
    "[ 1. 1. 1.]]"
   ]
  },
  {
   "cell_type": "code",
   "execution_count": 72,
   "metadata": {},
   "outputs": [
    {
     "name": "stdout",
     "output_type": "stream",
     "text": [
      "[[0. 0. 0.]\n",
      " [1. 0. 0.]\n",
      " [1. 1. 0.]\n",
      " [1. 1. 1.]]\n"
     ]
    }
   ],
   "source": [
    "import numpy as np\n",
    "result = np.tril(np.ones((4, 3)), k=-1)\n",
    "print(result)\n"
   ]
  },
  {
   "cell_type": "markdown",
   "metadata": {},
   "source": [
    "20. Write a Python program to concatenate two 2-dimensional arrays.\n",
    "Expected Output:\n",
    "Sample arrays: [[0, 1, 3], [5, 7, 9]], [[0, 2, 4], [6, 8, 10]]\n",
    "Expected Output:\n",
    "[[ 0 1 3 0 2 4]\n",
    "[ 5 7 9 6 8 10]]"
   ]
  },
  {
   "cell_type": "code",
   "execution_count": 74,
   "metadata": {},
   "outputs": [
    {
     "name": "stdout",
     "output_type": "stream",
     "text": [
      "[[ 0  1  3  0  2  4]\n",
      " [ 5  7  9  6  8 10]]\n"
     ]
    }
   ],
   "source": [
    "import numpy as np\n",
    "\n",
    "arr1 = np.array([[0, 1, 3], [5, 7, 9]])\n",
    "arr2 = np.array([[0, 2, 4], [6, 8, 10]])\n",
    "\n",
    "result = np.concatenate((arr1, arr2), axis=1)\n",
    "print(result)\n"
   ]
  },
  {
   "cell_type": "markdown",
   "metadata": {},
   "source": [
    "21. Write a Python program to make an array immutable (read-only).\n",
    "Expected Output:\n",
    "Test the array is read-only or not:\n",
    "Try to change the value of the first element:\n",
    "Traceback (most recent call last):\n",
    "File \"19236bd0-0bd9-11e7-a232-c706d0968eb6.py\", line 6, in\n",
    "x[0] = 1\n",
    "ValueError: assignment destination is read-only"
   ]
  },
  {
   "cell_type": "code",
   "execution_count": 77,
   "metadata": {},
   "outputs": [
    {
     "name": "stdout",
     "output_type": "stream",
     "text": [
      "test the array is read-only or not:\n",
      "error: assignment destination is read-only\n"
     ]
    }
   ],
   "source": [
    "import numpy as np\n",
    "arr = np.array([1, 2, 3, 4, 5])\n",
    "arr.flags.writeable = False\n",
    "\n",
    "print(\"test the array is read-only or not:\")\n",
    "try:\n",
    "    arr[0] = 10\n",
    "except ValueError as e:\n",
    "    print(\"error:\", e)\n"
   ]
  },
  {
   "cell_type": "markdown",
   "metadata": {},
   "source": [
    "22. Write a Python program to create an array of (3, 4) shape, multiply every element\n",
    "value by 3 and display the new array.\n",
    "Expected Output:\n",
    "Original array elements:\n",
    "[[ 0 1 2 3]\n",
    "[ 4 5 6 7]\n",
    "[ 8 9 10 11]]\n",
    "New array elements:\n",
    "[[ 0 3 6 9]\n",
    "[12 15 18 21]\n",
    "[24 27 30 33]]"
   ]
  },
  {
   "cell_type": "code",
   "execution_count": 79,
   "metadata": {},
   "outputs": [
    {
     "name": "stdout",
     "output_type": "stream",
     "text": [
      "original array elements:\n",
      "[[ 0  1  2  3]\n",
      " [ 4  5  6  7]\n",
      " [ 8  9 10 11]]\n",
      "new array elements:\n",
      "[[ 0  3  6  9]\n",
      " [12 15 18 21]\n",
      " [24 27 30 33]]\n"
     ]
    }
   ],
   "source": [
    "import numpy as np\n",
    "arr = np.arange(0,12).reshape(3, 4)\n",
    "\n",
    "print(\"original array elements:\")\n",
    "print(arr)\n",
    "new_arr = arr * 3\n",
    "print(\"new array elements:\")\n",
    "print(new_arr)\n"
   ]
  },
  {
   "cell_type": "markdown",
   "metadata": {},
   "source": [
    "23. Write a Python program to convert a NumPy array into Python list structure.\n",
    "Expected Output:\n",
    "Original array elements:\n",
    "[[0 1]\n",
    "[2 3]\n",
    "[4 5]]\n",
    "Array to list:\n",
    "[[0, 1], [2, 3], [4, 5]]"
   ]
  },
  {
   "cell_type": "code",
   "execution_count": 80,
   "metadata": {},
   "outputs": [
    {
     "name": "stdout",
     "output_type": "stream",
     "text": [
      "original array elements:\n",
      "[[0 1]\n",
      " [2 3]\n",
      " [4 5]]\n",
      "array to list:\n",
      "[[0, 1], [2, 3], [4, 5]]\n"
     ]
    }
   ],
   "source": [
    "import numpy as np\n",
    "arr = np.array([[0, 1], [2, 3], [4, 5]])\n",
    "print(\"original array elements:\")\n",
    "print(arr)\n",
    "list_structure = arr.tolist()\n",
    "print(\"array to list:\")\n",
    "print(list_structure)\n"
   ]
  },
  {
   "cell_type": "markdown",
   "metadata": {},
   "source": [
    "24. Write a Python program to convert a NumPy array into Python list structure.\n",
    "Expected Output:\n",
    "\n",
    "Original array elements:\n",
    "[ 0.26153123 0.52760141 0.5718299 0.5927067 0.7831874 0.69746349\n",
    "0.35399976 0.99469633 0.0694458 0.54711478]\n",
    "Print array values with precision 3:\n",
    "[ 0.262 0.528 0.572 0.593 0.783 0.697 0.354 0.995 0.069 0.547]"
   ]
  },
  {
   "cell_type": "code",
   "execution_count": 85,
   "metadata": {},
   "outputs": [
    {
     "name": "stdout",
     "output_type": "stream",
     "text": [
      "original array elements:\n",
      "[0.95359193 0.37806482 0.93869416 0.38099801 0.70860366 0.62705388\n",
      " 0.86541509 0.71962152 0.6416284  0.52849403]\n",
      "print array values with precision 3:\n",
      "[0.954, 0.378, 0.939, 0.381, 0.709, 0.627, 0.865, 0.72, 0.642, 0.528]\n"
     ]
    }
   ],
   "source": [
    "import numpy as np\n",
    "arr = np.random.rand(10)\n",
    "print(\"original array elements:\")\n",
    "print(arr)\n",
    "list_structure = arr.tolist()\n",
    "rounded_list = []\n",
    "for num in list_structure:\n",
    "    rounded_list.append(round(num, 3))\n",
    "print(\"print array values with precision 3:\")\n",
    "print(rounded_list)\n"
   ]
  },
  {
   "cell_type": "markdown",
   "metadata": {},
   "source": [
    "25. Write a Python program to suppresses the use of scientific notation for small\n",
    "numbers in numpy array.\n",
    "Expected Output:\n",
    "Original array elements:\n",
    "[ 1.60000000e-10 1.60000000e+00 1.20000000e+03 2.35000000e-01]\n",
    "Print array values with precision 3:\n",
    "[ 0. 1.6 1200. 0.235]"
   ]
  },
  {
   "cell_type": "code",
   "execution_count": 90,
   "metadata": {},
   "outputs": [
    {
     "name": "stdout",
     "output_type": "stream",
     "text": [
      "Original array elements:\n",
      "[1.60e-10 1.60e+00 1.20e+03 2.35e-01]\n",
      "\n",
      "Print array values with precision 3:\n",
      "[   0.       1.6   1200.       0.235]\n"
     ]
    }
   ],
   "source": [
    "import numpy as np\n",
    "arr = np.array([1.6e-10, 1.6, 1.2e3, 2.35e-1])\n",
    "np.set_printoptions(suppress=False)  # Reset to default scientific notation\n",
    "print(\"Original array elements:\")\n",
    "print(arr)\n",
    "np.set_printoptions(suppress=True, precision=3)\n",
    "print(\"\\nPrint array values with precision 3:\")\n",
    "print(arr)\n"
   ]
  },
  {
   "cell_type": "markdown",
   "metadata": {},
   "source": [
    "26. Write a Python program to how to add an extra column to an numpy array.\n",
    "Expected Output:\n",
    "[[ 10 20 30 100]\n",
    "[ 40 50 60 200]]"
   ]
  },
  {
   "cell_type": "code",
   "execution_count": null,
   "metadata": {},
   "outputs": [
    {
     "name": "stdout",
     "output_type": "stream",
     "text": [
      "[[ 10  20  30 100]\n",
      " [ 40  50  60 200]]\n"
     ]
    }
   ],
   "source": [
    "import numpy as np\n",
    "arr = np.array([[10, 20, 30], [40, 50, 60]])\n",
    "new_column = np.array([[100], [200]])  # Column with two rows\n",
    "result = np.concatenate((arr, new_column), axis=1)\n",
    "print(result)\n"
   ]
  },
  {
   "cell_type": "markdown",
   "metadata": {},
   "source": [
    "27. Write a Python program to remove specific elements in a numpy array.\n",
    "Expected Output:\n",
    "Original array:\n",
    "[ 10 20 30 40 50 60 70 80 90 100]\n",
    "Delete first, fourth and fifth elements:\n",
    "[ 20 30 60 70 80 90 100]"
   ]
  },
  {
   "cell_type": "code",
   "execution_count": 93,
   "metadata": {},
   "outputs": [
    {
     "name": "stdout",
     "output_type": "stream",
     "text": [
      "original array:\n",
      "[ 10  20  30  40  50  60  70  80  90 100]\n",
      "delete first, fourth and fifth elements:\n",
      "[ 20  30  60  70  80  90 100]\n"
     ]
    }
   ],
   "source": [
    "import numpy as np\n",
    "arr = np.array([10, 20, 30, 40, 50, 60, 70, 80, 90, 100])\n",
    "print(\"original array:\")\n",
    "print(arr)\n",
    "indices_to_remove = [0, 3, 4]\n",
    "new_arr = np.delete(arr, indices_to_remove)\n",
    "print(\"delete first, fourth and fifth elements:\")\n",
    "print(new_arr)\n"
   ]
  }
 ],
 "metadata": {
  "kernelspec": {
   "display_name": "Python 3",
   "language": "python",
   "name": "python3"
  },
  "language_info": {
   "codemirror_mode": {
    "name": "ipython",
    "version": 3
   },
   "file_extension": ".py",
   "mimetype": "text/x-python",
   "name": "python",
   "nbconvert_exporter": "python",
   "pygments_lexer": "ipython3",
   "version": "3.12.2"
  }
 },
 "nbformat": 4,
 "nbformat_minor": 2
}
